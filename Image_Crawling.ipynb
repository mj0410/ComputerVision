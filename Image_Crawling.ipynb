{
  "nbformat": 4,
  "nbformat_minor": 0,
  "metadata": {
    "colab": {
      "provenance": [],
      "authorship_tag": "ABX9TyPBamGJGGdpJB1fWZYTo580"
    },
    "kernelspec": {
      "name": "python3",
      "display_name": "Python 3"
    },
    "language_info": {
      "name": "python"
    }
  },
  "cells": [
    {
      "cell_type": "code",
      "execution_count": null,
      "metadata": {
        "id": "1P6oxWR7CLXT"
      },
      "outputs": [],
      "source": [
        "!pip install selenium\n",
        "!apt-get update\n",
        "!apt install chromium-chromedriver"
      ]
    },
    {
      "cell_type": "code",
      "source": [
        "from selenium import webdriver\n",
        "from selenium.webdriver.common.by import By\n",
        "import os, time, requests, random\n",
        "from tqdm import tqdm\n",
        "import hashlib"
      ],
      "metadata": {
        "id": "hCcTo6XBFn40"
      },
      "execution_count": null,
      "outputs": []
    },
    {
      "cell_type": "markdown",
      "source": [
        "### Collect Image URL"
      ],
      "metadata": {
        "id": "HiY4PBPunHpy"
      }
    },
    {
      "cell_type": "code",
      "source": [
        "query = 'realistic AI generated dog'\n",
        "query = query.replace(\" \", \"+\")\n",
        "print(query)"
      ],
      "metadata": {
        "id": "0NYWrpvFFoaz",
        "colab": {
          "base_uri": "https://localhost:8080/"
        },
        "outputId": "901dcec1-c119-46cb-ddbc-95b83c7fe50d"
      },
      "execution_count": null,
      "outputs": [
        {
          "output_type": "stream",
          "name": "stdout",
          "text": [
            "realistic+AI+generated+dog\n"
          ]
        }
      ]
    },
    {
      "cell_type": "code",
      "source": [
        "chrome_options = webdriver.ChromeOptions()\n",
        "chrome_options.add_argument('--headless')\n",
        "chrome_options.add_argument('--no-sandbox')\n",
        "chrome_options.add_argument('--disable-dev-shm-usage')\n",
        "driver = webdriver.Chrome(options=chrome_options)\n",
        "\n",
        "driver.get(f'https://www.google.com/imghp')\n",
        "\n",
        "search_bar = driver.find_element(By.NAME, \"q\")\n",
        "search_bar.send_keys(query)\n",
        "search_bar.submit()"
      ],
      "metadata": {
        "id": "1gXR6-ehkH8p"
      },
      "execution_count": null,
      "outputs": []
    },
    {
      "cell_type": "code",
      "source": [
        "PAUSE_TIME = 2\n",
        "last_height = driver.execute_script('return document.body.scrollHeight')\n",
        "\n",
        "while True :\n",
        "  driver.execute_script(\"window.scrollTo(0, document.body.scrollHeight);\")\n",
        "  print(\"scroll\")\n",
        "  time.sleep(PAUSE_TIME)\n",
        "\n",
        "  try:\n",
        "    button = driver.find_element(By.XPATH, '//*[@id=\"islmp\"]/div/div/div/div/div[1]/div[2]/div[2]/input')\n",
        "    button.click() # '결과 더보기'가 있는 경우 버튼 클릭\n",
        "    print(\"more results\")\n",
        "    time.sleep(PAUSE_TIME)\n",
        "  except:\n",
        "    pass\n",
        "\n",
        "  new_height = driver.execute_script('return document.body.scrollHeight')\n",
        "\n",
        "  end = driver.find_element(By.XPATH, '//*[@id=\"islmp\"]/div/div/div/div/div[1]/div[2]/div[1]/div[2]/div[1]/div').text\n",
        "  # print(end)\n",
        "\n",
        "  if end == 'Looks like you\\'ve reached the end':\n",
        "    print(\"no more pics\")\n",
        "    break"
      ],
      "metadata": {
        "colab": {
          "base_uri": "https://localhost:8080/"
        },
        "id": "3JAsnRzPkUj5",
        "outputId": "00fd8406-d178-40a4-bef1-d65ceb6aed40"
      },
      "execution_count": null,
      "outputs": [
        {
          "output_type": "stream",
          "name": "stdout",
          "text": [
            "scroll\n",
            "scroll\n",
            "scroll\n",
            "scroll\n",
            "scroll\n",
            "more results\n",
            "scroll\n",
            "scroll\n",
            "scroll\n",
            "scroll\n",
            "scroll\n",
            "no more pics\n"
          ]
        }
      ]
    },
    {
      "cell_type": "code",
      "source": [
        "img_elements = driver.find_elements(By.CSS_SELECTOR, \".rg_i\")\n",
        "print(len(img_elements))\n",
        "time.sleep(1)"
      ],
      "metadata": {
        "colab": {
          "base_uri": "https://localhost:8080/"
        },
        "id": "yeR3b8q96LCO",
        "outputId": "c770a85c-4c1c-4d8b-ae9c-49e9b0445918"
      },
      "execution_count": null,
      "outputs": [
        {
          "output_type": "stream",
          "name": "stdout",
          "text": [
            "927\n"
          ]
        }
      ]
    },
    {
      "cell_type": "code",
      "source": [
        "# collect url\n",
        "img_url = []\n",
        "\n",
        "for idx, img in enumerate(img_elements) :\n",
        "  if idx%100 == 0:\n",
        "    print(f\"{query} : {idx+1}/{len(img_elements)} proceed...\")\n",
        "  try :\n",
        "    img.click()\n",
        "    time.sleep(1)\n",
        "    img_element = driver.find_element(By.CSS_SELECTOR,'#Sva75c > div.A8mJGd.NDuZHe.CMiV2d.OGftbe-N7Eqid-H9tDt > div.dFMRD > div.AQyBn > div.tvh9oe.BIB1wf.hVa2Fd > c-wiz > div > div > div > div > div.v6bUne > div.p7sI2.PUxBg > a > img.sFlh5c.pT0Scc.iPVvYb')\n",
        "    url = img_element.get_attribute('src')\n",
        "    img_url.append(url)\n",
        "  except :\n",
        "    pass\n",
        "\n",
        "# close chrome\n",
        "driver.close()\n",
        "\n",
        "print('number of collected url :', len(img_url))"
      ],
      "metadata": {
        "colab": {
          "base_uri": "https://localhost:8080/"
        },
        "id": "-U_wdX6aFos8",
        "outputId": "1e738a99-414f-4a95-ceeb-ce9cfffe971e"
      },
      "execution_count": null,
      "outputs": [
        {
          "output_type": "stream",
          "name": "stdout",
          "text": [
            "realistic+AI+generated+dog : 1/927 proceed...\n",
            "realistic+AI+generated+dog : 101/927 proceed...\n",
            "realistic+AI+generated+dog : 201/927 proceed...\n",
            "realistic+AI+generated+dog : 301/927 proceed...\n",
            "realistic+AI+generated+dog : 401/927 proceed...\n",
            "realistic+AI+generated+dog : 501/927 proceed...\n",
            "realistic+AI+generated+dog : 601/927 proceed...\n",
            "realistic+AI+generated+dog : 701/927 proceed...\n",
            "realistic+AI+generated+dog : 801/927 proceed...\n",
            "realistic+AI+generated+dog : 901/927 proceed...\n",
            "number of collected url : 563\n"
          ]
        }
      ]
    },
    {
      "cell_type": "code",
      "source": [
        "len(list(set(img_url)))"
      ],
      "metadata": {
        "colab": {
          "base_uri": "https://localhost:8080/"
        },
        "id": "0mcm8fi5sZpz",
        "outputId": "f520f193-de99-4afd-f532-afd43cb5b304"
      },
      "execution_count": null,
      "outputs": [
        {
          "output_type": "execute_result",
          "data": {
            "text/plain": [
              "557"
            ]
          },
          "metadata": {},
          "execution_count": 8
        }
      ]
    },
    {
      "cell_type": "code",
      "source": [
        "img_url[0]"
      ],
      "metadata": {
        "colab": {
          "base_uri": "https://localhost:8080/",
          "height": 35
        },
        "id": "6UmisQzOBdm_",
        "outputId": "f8edbb2f-6c9b-41be-be09-604ff4b704b0"
      },
      "execution_count": null,
      "outputs": [
        {
          "output_type": "execute_result",
          "data": {
            "text/plain": [
              "'https://miro.medium.com/v2/resize:fit:597/1*lB6Kz1A04iBlQiRapN9-Cw.png'"
            ],
            "application/vnd.google.colaboratory.intrinsic+json": {
              "type": "string"
            }
          },
          "metadata": {},
          "execution_count": 9
        }
      ]
    },
    {
      "cell_type": "markdown",
      "source": [
        "### Save image from URL"
      ],
      "metadata": {
        "id": "2D3jTLicnDVp"
      }
    },
    {
      "cell_type": "code",
      "source": [
        "!mkdir data"
      ],
      "metadata": {
        "id": "JvR6Ol8YnbR6"
      },
      "execution_count": null,
      "outputs": []
    },
    {
      "cell_type": "code",
      "source": [
        "file_name = query.replace('+', '_')\n",
        "file_name"
      ],
      "metadata": {
        "colab": {
          "base_uri": "https://localhost:8080/",
          "height": 35
        },
        "id": "_c9A6qcopPKs",
        "outputId": "6328fd53-1a03-4f7c-b58f-f91b2c8d05f8"
      },
      "execution_count": null,
      "outputs": [
        {
          "output_type": "execute_result",
          "data": {
            "text/plain": [
              "'realistic_AI_generated_dog'"
            ],
            "application/vnd.google.colaboratory.intrinsic+json": {
              "type": "string"
            }
          },
          "metadata": {},
          "execution_count": 11
        }
      ]
    },
    {
      "cell_type": "code",
      "source": [
        "for i, url in enumerate(img_url):\n",
        "  if i%100 == 0:\n",
        "    print(f\"{i+1}/{len(img_url)} saved\")\n",
        "  r = requests.get(url)\n",
        "  with open(f'/content/data/{file_name}_{i+1}.jpg', \"wb\") as f:\n",
        "    f.write(r.content)"
      ],
      "metadata": {
        "colab": {
          "base_uri": "https://localhost:8080/"
        },
        "id": "8fEeJ0t7BMnv",
        "outputId": "87b6fdd3-49c1-486c-f333-83e3fe30e4e5"
      },
      "execution_count": null,
      "outputs": [
        {
          "output_type": "stream",
          "name": "stdout",
          "text": [
            "1/563 saved\n",
            "101/563 saved\n",
            "201/563 saved\n",
            "301/563 saved\n",
            "401/563 saved\n",
            "501/563 saved\n"
          ]
        }
      ]
    },
    {
      "cell_type": "code",
      "source": [
        "!zip -r /content/data.zip /content/data"
      ],
      "metadata": {
        "colab": {
          "base_uri": "https://localhost:8080/"
        },
        "id": "0JgnvCo5D1TQ",
        "outputId": "b5084b13-e17e-4c81-d49e-7bdcb6201bfd"
      },
      "execution_count": null,
      "outputs": [
        {
          "output_type": "stream",
          "name": "stdout",
          "text": [
            "  adding: content/data/ (stored 0%)\n",
            "  adding: content/data/realistic_AI_generated_dog_266.jpg (deflated 4%)\n",
            "  adding: content/data/realistic_AI_generated_dog_323.jpg (deflated 1%)\n",
            "  adding: content/data/realistic_AI_generated_dog_418.jpg (deflated 6%)\n",
            "  adding: content/data/realistic_AI_generated_dog_397.jpg (deflated 0%)\n",
            "  adding: content/data/realistic_AI_generated_dog_207.jpg (deflated 0%)\n",
            "  adding: content/data/realistic_AI_generated_dog_22.jpg (deflated 3%)\n",
            "  adding: content/data/realistic_AI_generated_dog_272.jpg (deflated 1%)\n",
            "  adding: content/data/realistic_AI_generated_dog_188.jpg (deflated 6%)\n",
            "  adding: content/data/realistic_AI_generated_dog_300.jpg (deflated 56%)\n",
            "  adding: content/data/realistic_AI_generated_dog_233.jpg (deflated 0%)\n",
            "  adding: content/data/realistic_AI_generated_dog_270.jpg (deflated 0%)\n",
            "  adding: content/data/realistic_AI_generated_dog_474.jpg (deflated 0%)\n",
            "  adding: content/data/realistic_AI_generated_dog_193.jpg (deflated 0%)\n",
            "  adding: content/data/realistic_AI_generated_dog_535.jpg (deflated 0%)\n",
            "  adding: content/data/realistic_AI_generated_dog_54.jpg (deflated 1%)\n",
            "  adding: content/data/realistic_AI_generated_dog_284.jpg (deflated 4%)\n",
            "  adding: content/data/realistic_AI_generated_dog_57.jpg (deflated 9%)\n",
            "  adding: content/data/realistic_AI_generated_dog_427.jpg (deflated 4%)\n",
            "  adding: content/data/realistic_AI_generated_dog_258.jpg (deflated 55%)\n",
            "  adding: content/data/realistic_AI_generated_dog_434.jpg (deflated 9%)\n",
            "  adding: content/data/realistic_AI_generated_dog_139.jpg (deflated 0%)\n",
            "  adding: content/data/realistic_AI_generated_dog_199.jpg (deflated 1%)\n",
            "  adding: content/data/realistic_AI_generated_dog_433.jpg (deflated 0%)\n",
            "  adding: content/data/realistic_AI_generated_dog_217.jpg (deflated 1%)\n",
            "  adding: content/data/realistic_AI_generated_dog_78.jpg (deflated 0%)\n",
            "  adding: content/data/realistic_AI_generated_dog_519.jpg (deflated 3%)\n",
            "  adding: content/data/realistic_AI_generated_dog_238.jpg (deflated 0%)\n",
            "  adding: content/data/realistic_AI_generated_dog_395.jpg (deflated 0%)\n",
            "  adding: content/data/realistic_AI_generated_dog_406.jpg (deflated 1%)\n",
            "  adding: content/data/realistic_AI_generated_dog_541.jpg (deflated 0%)\n",
            "  adding: content/data/realistic_AI_generated_dog_443.jpg (deflated 0%)\n",
            "  adding: content/data/realistic_AI_generated_dog_403.jpg (deflated 0%)\n",
            "  adding: content/data/realistic_AI_generated_dog_95.jpg (deflated 6%)\n",
            "  adding: content/data/realistic_AI_generated_dog_262.jpg (deflated 0%)\n",
            "  adding: content/data/realistic_AI_generated_dog_437.jpg (deflated 0%)\n",
            "  adding: content/data/realistic_AI_generated_dog_365.jpg (deflated 1%)\n",
            "  adding: content/data/realistic_AI_generated_dog_253.jpg (deflated 0%)\n",
            "  adding: content/data/realistic_AI_generated_dog_504.jpg (deflated 11%)\n",
            "  adding: content/data/realistic_AI_generated_dog_545.jpg (deflated 5%)\n",
            "  adding: content/data/realistic_AI_generated_dog_496.jpg (deflated 0%)\n",
            "  adding: content/data/realistic_AI_generated_dog_350.jpg (stored 0%)\n",
            "  adding: content/data/realistic_AI_generated_dog_17.jpg (deflated 1%)\n",
            "  adding: content/data/realistic_AI_generated_dog_132.jpg (deflated 1%)\n",
            "  adding: content/data/realistic_AI_generated_dog_398.jpg (deflated 1%)\n",
            "  adding: content/data/realistic_AI_generated_dog_232.jpg (deflated 9%)\n",
            "  adding: content/data/realistic_AI_generated_dog_237.jpg (stored 0%)\n",
            "  adding: content/data/realistic_AI_generated_dog_136.jpg (deflated 0%)\n",
            "  adding: content/data/realistic_AI_generated_dog_118.jpg (deflated 0%)\n",
            "  adding: content/data/realistic_AI_generated_dog_242.jpg (deflated 0%)\n",
            "  adding: content/data/realistic_AI_generated_dog_512.jpg (deflated 0%)\n",
            "  adding: content/data/realistic_AI_generated_dog_330.jpg (deflated 2%)\n",
            "  adding: content/data/realistic_AI_generated_dog_107.jpg (deflated 0%)\n",
            "  adding: content/data/realistic_AI_generated_dog_491.jpg (deflated 9%)\n",
            "  adding: content/data/realistic_AI_generated_dog_228.jpg (deflated 0%)\n",
            "  adding: content/data/realistic_AI_generated_dog_72.jpg (deflated 1%)\n",
            "  adding: content/data/realistic_AI_generated_dog_114.jpg (deflated 0%)\n",
            "  adding: content/data/realistic_AI_generated_dog_495.jpg (deflated 10%)\n",
            "  adding: content/data/realistic_AI_generated_dog_450.jpg (deflated 0%)\n",
            "  adding: content/data/realistic_AI_generated_dog_186.jpg (deflated 0%)\n",
            "  adding: content/data/realistic_AI_generated_dog_507.jpg (deflated 0%)\n",
            "  adding: content/data/realistic_AI_generated_dog_368.jpg (deflated 0%)\n",
            "  adding: content/data/realistic_AI_generated_dog_3.jpg (deflated 1%)\n",
            "  adding: content/data/realistic_AI_generated_dog_215.jpg (deflated 1%)\n",
            "  adding: content/data/realistic_AI_generated_dog_335.jpg (deflated 0%)\n",
            "  adding: content/data/realistic_AI_generated_dog_321.jpg (deflated 1%)\n",
            "  adding: content/data/realistic_AI_generated_dog_444.jpg (deflated 5%)\n",
            "  adding: content/data/realistic_AI_generated_dog_204.jpg (deflated 7%)\n",
            "  adding: content/data/realistic_AI_generated_dog_473.jpg (deflated 1%)\n",
            "  adding: content/data/realistic_AI_generated_dog_182.jpg (deflated 0%)\n",
            "  adding: content/data/realistic_AI_generated_dog_452.jpg (deflated 0%)\n",
            "  adding: content/data/realistic_AI_generated_dog_387.jpg (deflated 0%)\n",
            "  adding: content/data/realistic_AI_generated_dog_222.jpg (deflated 0%)\n",
            "  adding: content/data/realistic_AI_generated_dog_291.jpg (stored 0%)\n",
            "  adding: content/data/realistic_AI_generated_dog_135.jpg (deflated 1%)\n",
            "  adding: content/data/realistic_AI_generated_dog_178.jpg (deflated 0%)\n",
            "  adding: content/data/realistic_AI_generated_dog_560.jpg (deflated 0%)\n",
            "  adding: content/data/realistic_AI_generated_dog_363.jpg (deflated 0%)\n",
            "  adding: content/data/realistic_AI_generated_dog_163.jpg (deflated 1%)\n",
            "  adding: content/data/realistic_AI_generated_dog_181.jpg (deflated 0%)\n",
            "  adding: content/data/realistic_AI_generated_dog_546.jpg (deflated 0%)\n",
            "  adding: content/data/realistic_AI_generated_dog_93.jpg (deflated 0%)\n",
            "  adding: content/data/realistic_AI_generated_dog_33.jpg (deflated 1%)\n",
            "  adding: content/data/realistic_AI_generated_dog_388.jpg (deflated 0%)\n",
            "  adding: content/data/realistic_AI_generated_dog_392.jpg (stored 0%)\n",
            "  adding: content/data/realistic_AI_generated_dog_183.jpg (deflated 4%)\n",
            "  adding: content/data/realistic_AI_generated_dog_267.jpg (deflated 7%)\n",
            "  adding: content/data/realistic_AI_generated_dog_35.jpg (deflated 1%)\n",
            "  adding: content/data/realistic_AI_generated_dog_360.jpg (deflated 56%)\n",
            "  adding: content/data/realistic_AI_generated_dog_192.jpg (stored 0%)\n",
            "  adding: content/data/realistic_AI_generated_dog_314.jpg (deflated 0%)\n",
            "  adding: content/data/realistic_AI_generated_dog_293.jpg (deflated 0%)\n",
            "  adding: content/data/realistic_AI_generated_dog_244.jpg (deflated 0%)\n",
            "  adding: content/data/realistic_AI_generated_dog_162.jpg (deflated 0%)\n",
            "  adding: content/data/realistic_AI_generated_dog_499.jpg (deflated 2%)\n",
            "  adding: content/data/realistic_AI_generated_dog_467.jpg (deflated 1%)\n",
            "  adding: content/data/realistic_AI_generated_dog_119.jpg (stored 0%)\n",
            "  adding: content/data/realistic_AI_generated_dog_257.jpg (stored 0%)\n",
            "  adding: content/data/realistic_AI_generated_dog_340.jpg (deflated 0%)\n",
            "  adding: content/data/realistic_AI_generated_dog_130.jpg (deflated 0%)\n",
            "  adding: content/data/realistic_AI_generated_dog_511.jpg (deflated 4%)\n",
            "  adding: content/data/realistic_AI_generated_dog_251.jpg (deflated 0%)\n",
            "  adding: content/data/realistic_AI_generated_dog_254.jpg (deflated 0%)\n",
            "  adding: content/data/realistic_AI_generated_dog_297.jpg (stored 0%)\n",
            "  adding: content/data/realistic_AI_generated_dog_83.jpg (deflated 0%)\n",
            "  adding: content/data/realistic_AI_generated_dog_125.jpg (deflated 55%)\n",
            "  adding: content/data/realistic_AI_generated_dog_61.jpg (deflated 2%)\n",
            "  adding: content/data/realistic_AI_generated_dog_154.jpg (deflated 1%)\n",
            "  adding: content/data/realistic_AI_generated_dog_331.jpg (deflated 0%)\n",
            "  adding: content/data/realistic_AI_generated_dog_561.jpg (deflated 0%)\n",
            "  adding: content/data/realistic_AI_generated_dog_16.jpg (deflated 0%)\n",
            "  adding: content/data/realistic_AI_generated_dog_133.jpg (deflated 0%)\n",
            "  adding: content/data/realistic_AI_generated_dog_369.jpg (deflated 9%)\n",
            "  adding: content/data/realistic_AI_generated_dog_394.jpg (deflated 6%)\n",
            "  adding: content/data/realistic_AI_generated_dog_548.jpg (deflated 6%)\n",
            "  adding: content/data/realistic_AI_generated_dog_407.jpg (deflated 0%)\n",
            "  adding: content/data/realistic_AI_generated_dog_52.jpg (deflated 0%)\n",
            "  adding: content/data/realistic_AI_generated_dog_348.jpg (deflated 1%)\n",
            "  adding: content/data/realistic_AI_generated_dog_144.jpg (deflated 1%)\n",
            "  adding: content/data/realistic_AI_generated_dog_273.jpg (deflated 9%)\n",
            "  adding: content/data/realistic_AI_generated_dog_286.jpg (deflated 0%)\n",
            "  adding: content/data/realistic_AI_generated_dog_414.jpg (deflated 2%)\n",
            "  adding: content/data/realistic_AI_generated_dog_281.jpg (deflated 1%)\n",
            "  adding: content/data/realistic_AI_generated_dog_203.jpg (deflated 0%)\n",
            "  adding: content/data/realistic_AI_generated_dog_234.jpg (deflated 55%)\n",
            "  adding: content/data/realistic_AI_generated_dog_404.jpg (stored 0%)\n",
            "  adding: content/data/realistic_AI_generated_dog_342.jpg (deflated 3%)\n",
            "  adding: content/data/realistic_AI_generated_dog_518.jpg (deflated 0%)\n",
            "  adding: content/data/realistic_AI_generated_dog_517.jpg (deflated 5%)\n",
            "  adding: content/data/realistic_AI_generated_dog_157.jpg (deflated 4%)\n",
            "  adding: content/data/realistic_AI_generated_dog_431.jpg (deflated 0%)\n",
            "  adding: content/data/realistic_AI_generated_dog_505.jpg (deflated 5%)\n",
            "  adding: content/data/realistic_AI_generated_dog_380.jpg (deflated 1%)\n",
            "  adding: content/data/realistic_AI_generated_dog_328.jpg (deflated 1%)\n",
            "  adding: content/data/realistic_AI_generated_dog_333.jpg (deflated 0%)\n",
            "  adding: content/data/realistic_AI_generated_dog_170.jpg (stored 0%)\n",
            "  adding: content/data/realistic_AI_generated_dog_198.jpg (deflated 0%)\n",
            "  adding: content/data/realistic_AI_generated_dog_381.jpg (deflated 2%)\n",
            "  adding: content/data/realistic_AI_generated_dog_515.jpg (deflated 4%)\n",
            "  adding: content/data/realistic_AI_generated_dog_469.jpg (deflated 0%)\n",
            "  adding: content/data/realistic_AI_generated_dog_56.jpg (deflated 0%)\n",
            "  adding: content/data/realistic_AI_generated_dog_320.jpg (deflated 1%)\n",
            "  adding: content/data/realistic_AI_generated_dog_334.jpg (deflated 0%)\n",
            "  adding: content/data/realistic_AI_generated_dog_84.jpg (deflated 31%)\n",
            "  adding: content/data/realistic_AI_generated_dog_480.jpg (deflated 1%)\n",
            "  adding: content/data/realistic_AI_generated_dog_82.jpg (deflated 7%)\n",
            "  adding: content/data/realistic_AI_generated_dog_69.jpg (deflated 0%)\n",
            "  adding: content/data/realistic_AI_generated_dog_28.jpg (deflated 0%)\n",
            "  adding: content/data/realistic_AI_generated_dog_358.jpg (deflated 0%)\n",
            "  adding: content/data/realistic_AI_generated_dog_194.jpg (deflated 1%)\n",
            "  adding: content/data/realistic_AI_generated_dog_326.jpg (deflated 0%)\n",
            "  adding: content/data/realistic_AI_generated_dog_32.jpg (deflated 0%)\n",
            "  adding: content/data/realistic_AI_generated_dog_2.jpg (deflated 0%)\n",
            "  adding: content/data/realistic_AI_generated_dog_424.jpg (deflated 0%)\n",
            "  adding: content/data/realistic_AI_generated_dog_1.jpg (deflated 56%)\n",
            "  adding: content/data/realistic_AI_generated_dog_378.jpg (deflated 0%)\n",
            "  adding: content/data/realistic_AI_generated_dog_389.jpg (deflated 0%)\n",
            "  adding: content/data/realistic_AI_generated_dog_305.jpg (deflated 0%)\n",
            "  adding: content/data/realistic_AI_generated_dog_386.jpg (deflated 0%)\n",
            "  adding: content/data/realistic_AI_generated_dog_221.jpg (deflated 1%)\n",
            "  adding: content/data/realistic_AI_generated_dog_214.jpg (deflated 0%)\n",
            "  adding: content/data/realistic_AI_generated_dog_226.jpg (deflated 0%)\n",
            "  adding: content/data/realistic_AI_generated_dog_313.jpg (stored 0%)\n",
            "  adding: content/data/realistic_AI_generated_dog_379.jpg (deflated 0%)\n",
            "  adding: content/data/realistic_AI_generated_dog_92.jpg (deflated 0%)\n",
            "  adding: content/data/realistic_AI_generated_dog_401.jpg (deflated 8%)\n",
            "  adding: content/data/realistic_AI_generated_dog_75.jpg (deflated 1%)\n",
            "  adding: content/data/realistic_AI_generated_dog_279.jpg (deflated 0%)\n",
            "  adding: content/data/realistic_AI_generated_dog_96.jpg (deflated 0%)\n",
            "  adding: content/data/realistic_AI_generated_dog_463.jpg (deflated 1%)\n",
            "  adding: content/data/realistic_AI_generated_dog_269.jpg (deflated 0%)\n",
            "  adding: content/data/realistic_AI_generated_dog_556.jpg (deflated 14%)\n",
            "  adding: content/data/realistic_AI_generated_dog_393.jpg (deflated 1%)\n",
            "  adding: content/data/realistic_AI_generated_dog_383.jpg (deflated 0%)\n",
            "  adding: content/data/realistic_AI_generated_dog_150.jpg (stored 0%)\n",
            "  adding: content/data/realistic_AI_generated_dog_230.jpg (deflated 1%)\n",
            "  adding: content/data/realistic_AI_generated_dog_476.jpg (deflated 1%)\n",
            "  adding: content/data/realistic_AI_generated_dog_98.jpg (deflated 1%)\n",
            "  adding: content/data/realistic_AI_generated_dog_493.jpg (deflated 0%)\n",
            "  adding: content/data/realistic_AI_generated_dog_471.jpg (deflated 0%)\n",
            "  adding: content/data/realistic_AI_generated_dog_184.jpg (deflated 0%)\n",
            "  adding: content/data/realistic_AI_generated_dog_39.jpg (deflated 3%)\n",
            "  adding: content/data/realistic_AI_generated_dog_396.jpg (deflated 0%)\n",
            "  adding: content/data/realistic_AI_generated_dog_9.jpg (deflated 5%)\n",
            "  adding: content/data/realistic_AI_generated_dog_149.jpg (stored 0%)\n",
            "  adding: content/data/realistic_AI_generated_dog_27.jpg (deflated 4%)\n",
            "  adding: content/data/realistic_AI_generated_dog_45.jpg (deflated 8%)\n",
            "  adding: content/data/realistic_AI_generated_dog_296.jpg (deflated 0%)\n",
            "  adding: content/data/realistic_AI_generated_dog_316.jpg (deflated 0%)\n",
            "  adding: content/data/realistic_AI_generated_dog_85.jpg (deflated 1%)\n",
            "  adding: content/data/realistic_AI_generated_dog_332.jpg (deflated 0%)\n",
            "  adding: content/data/realistic_AI_generated_dog_359.jpg (deflated 0%)\n",
            "  adding: content/data/realistic_AI_generated_dog_126.jpg (deflated 2%)\n",
            "  adding: content/data/realistic_AI_generated_dog_537.jpg (deflated 5%)\n",
            "  adding: content/data/realistic_AI_generated_dog_106.jpg (stored 0%)\n",
            "  adding: content/data/realistic_AI_generated_dog_384.jpg (stored 0%)\n",
            "  adding: content/data/realistic_AI_generated_dog_416.jpg (deflated 0%)\n",
            "  adding: content/data/realistic_AI_generated_dog_10.jpg (deflated 0%)\n",
            "  adding: content/data/realistic_AI_generated_dog_51.jpg (deflated 10%)\n",
            "  adding: content/data/realistic_AI_generated_dog_298.jpg (deflated 4%)\n",
            "  adding: content/data/realistic_AI_generated_dog_533.jpg (deflated 11%)\n",
            "  adding: content/data/realistic_AI_generated_dog_190.jpg (deflated 0%)\n",
            "  adding: content/data/realistic_AI_generated_dog_461.jpg (deflated 0%)\n",
            "  adding: content/data/realistic_AI_generated_dog_509.jpg (deflated 0%)\n",
            "  adding: content/data/realistic_AI_generated_dog_502.jpg (deflated 0%)\n",
            "  adding: content/data/realistic_AI_generated_dog_169.jpg (deflated 10%)\n",
            "  adding: content/data/realistic_AI_generated_dog_261.jpg (deflated 0%)\n",
            "  adding: content/data/realistic_AI_generated_dog_116.jpg (deflated 1%)\n",
            "  adding: content/data/realistic_AI_generated_dog_391.jpg (deflated 0%)\n",
            "  adding: content/data/realistic_AI_generated_dog_166.jpg (deflated 6%)\n",
            "  adding: content/data/realistic_AI_generated_dog_152.jpg (deflated 6%)\n",
            "  adding: content/data/realistic_AI_generated_dog_308.jpg (deflated 0%)\n",
            "  adding: content/data/realistic_AI_generated_dog_121.jpg (deflated 0%)\n",
            "  adding: content/data/realistic_AI_generated_dog_128.jpg (deflated 1%)\n",
            "  adding: content/data/realistic_AI_generated_dog_423.jpg (deflated 0%)\n",
            "  adding: content/data/realistic_AI_generated_dog_543.jpg (deflated 7%)\n",
            "  adding: content/data/realistic_AI_generated_dog_249.jpg (deflated 0%)\n",
            "  adding: content/data/realistic_AI_generated_dog_451.jpg (deflated 2%)\n",
            "  adding: content/data/realistic_AI_generated_dog_102.jpg (deflated 5%)\n",
            "  adding: content/data/realistic_AI_generated_dog_200.jpg (deflated 0%)\n",
            "  adding: content/data/realistic_AI_generated_dog_547.jpg (deflated 2%)\n",
            "  adding: content/data/realistic_AI_generated_dog_327.jpg (deflated 4%)\n",
            "  adding: content/data/realistic_AI_generated_dog_530.jpg (deflated 4%)\n",
            "  adding: content/data/realistic_AI_generated_dog_510.jpg (deflated 0%)\n",
            "  adding: content/data/realistic_AI_generated_dog_462.jpg (deflated 5%)\n",
            "  adding: content/data/realistic_AI_generated_dog_138.jpg (deflated 1%)\n",
            "  adding: content/data/realistic_AI_generated_dog_19.jpg (stored 0%)\n",
            "  adding: content/data/realistic_AI_generated_dog_143.jpg (deflated 1%)\n",
            "  adding: content/data/realistic_AI_generated_dog_113.jpg (stored 0%)\n",
            "  adding: content/data/realistic_AI_generated_dog_306.jpg (stored 0%)\n",
            "  adding: content/data/realistic_AI_generated_dog_165.jpg (deflated 0%)\n",
            "  adding: content/data/realistic_AI_generated_dog_426.jpg (deflated 0%)\n",
            "  adding: content/data/realistic_AI_generated_dog_153.jpg (deflated 0%)\n",
            "  adding: content/data/realistic_AI_generated_dog_347.jpg (deflated 0%)\n",
            "  adding: content/data/realistic_AI_generated_dog_465.jpg (deflated 0%)\n",
            "  adding: content/data/realistic_AI_generated_dog_268.jpg (deflated 0%)\n",
            "  adding: content/data/realistic_AI_generated_dog_134.jpg (deflated 2%)\n",
            "  adding: content/data/realistic_AI_generated_dog_490.jpg (deflated 0%)\n",
            "  adding: content/data/realistic_AI_generated_dog_220.jpg (deflated 0%)\n",
            "  adding: content/data/realistic_AI_generated_dog_354.jpg (deflated 0%)\n",
            "  adding: content/data/realistic_AI_generated_dog_400.jpg (stored 0%)\n",
            "  adding: content/data/realistic_AI_generated_dog_478.jpg (deflated 8%)\n",
            "  adding: content/data/realistic_AI_generated_dog_559.jpg (deflated 6%)\n",
            "  adding: content/data/realistic_AI_generated_dog_448.jpg (deflated 0%)\n",
            "  adding: content/data/realistic_AI_generated_dog_5.jpg (deflated 0%)\n",
            "  adding: content/data/realistic_AI_generated_dog_81.jpg (stored 0%)\n",
            "  adding: content/data/realistic_AI_generated_dog_336.jpg (deflated 1%)\n",
            "  adding: content/data/realistic_AI_generated_dog_503.jpg (deflated 0%)\n",
            "  adding: content/data/realistic_AI_generated_dog_8.jpg (deflated 0%)\n",
            "  adding: content/data/realistic_AI_generated_dog_457.jpg (deflated 0%)\n",
            "  adding: content/data/realistic_AI_generated_dog_64.jpg (deflated 0%)\n",
            "  adding: content/data/realistic_AI_generated_dog_124.jpg (deflated 1%)\n",
            "  adding: content/data/realistic_AI_generated_dog_115.jpg (deflated 0%)\n",
            "  adding: content/data/realistic_AI_generated_dog_283.jpg (deflated 3%)\n",
            "  adding: content/data/realistic_AI_generated_dog_500.jpg (deflated 1%)\n",
            "  adding: content/data/realistic_AI_generated_dog_89.jpg (deflated 0%)\n",
            "  adding: content/data/realistic_AI_generated_dog_290.jpg (deflated 0%)\n",
            "  adding: content/data/realistic_AI_generated_dog_485.jpg (deflated 8%)\n",
            "  adding: content/data/realistic_AI_generated_dog_353.jpg (deflated 0%)\n",
            "  adding: content/data/realistic_AI_generated_dog_239.jpg (deflated 8%)\n",
            "  adding: content/data/realistic_AI_generated_dog_282.jpg (deflated 0%)\n",
            "  adding: content/data/realistic_AI_generated_dog_216.jpg (deflated 2%)\n",
            "  adding: content/data/realistic_AI_generated_dog_179.jpg (deflated 0%)\n",
            "  adding: content/data/realistic_AI_generated_dog_30.jpg (deflated 11%)\n",
            "  adding: content/data/realistic_AI_generated_dog_466.jpg (deflated 0%)\n",
            "  adding: content/data/realistic_AI_generated_dog_520.jpg (deflated 6%)\n",
            "  adding: content/data/realistic_AI_generated_dog_422.jpg (deflated 8%)\n",
            "  adding: content/data/realistic_AI_generated_dog_146.jpg (deflated 1%)\n",
            "  adding: content/data/realistic_AI_generated_dog_177.jpg (deflated 1%)\n",
            "  adding: content/data/realistic_AI_generated_dog_63.jpg (deflated 0%)\n",
            "  adding: content/data/realistic_AI_generated_dog_87.jpg (deflated 0%)\n",
            "  adding: content/data/realistic_AI_generated_dog_164.jpg (deflated 0%)\n",
            "  adding: content/data/realistic_AI_generated_dog_322.jpg (deflated 7%)\n",
            "  adding: content/data/realistic_AI_generated_dog_339.jpg (deflated 0%)\n",
            "  adding: content/data/realistic_AI_generated_dog_528.jpg (deflated 0%)\n",
            "  adding: content/data/realistic_AI_generated_dog_88.jpg (deflated 0%)\n",
            "  adding: content/data/realistic_AI_generated_dog_191.jpg (deflated 0%)\n",
            "  adding: content/data/realistic_AI_generated_dog_111.jpg (deflated 0%)\n",
            "  adding: content/data/realistic_AI_generated_dog_55.jpg (deflated 2%)\n",
            "  adding: content/data/realistic_AI_generated_dog_484.jpg (deflated 0%)\n",
            "  adding: content/data/realistic_AI_generated_dog_292.jpg (deflated 8%)\n",
            "  adding: content/data/realistic_AI_generated_dog_70.jpg (stored 0%)\n",
            "  adding: content/data/realistic_AI_generated_dog_168.jpg (deflated 1%)\n",
            "  adding: content/data/realistic_AI_generated_dog_526.jpg (deflated 0%)\n",
            "  adding: content/data/realistic_AI_generated_dog_343.jpg (deflated 6%)\n",
            "  adding: content/data/realistic_AI_generated_dog_521.jpg (deflated 0%)\n",
            "  adding: content/data/realistic_AI_generated_dog_405.jpg (deflated 0%)\n",
            "  adding: content/data/realistic_AI_generated_dog_309.jpg (deflated 0%)\n",
            "  adding: content/data/realistic_AI_generated_dog_161.jpg (deflated 1%)\n",
            "  adding: content/data/realistic_AI_generated_dog_43.jpg (deflated 0%)\n",
            "  adding: content/data/realistic_AI_generated_dog_223.jpg (deflated 0%)\n",
            "  adding: content/data/realistic_AI_generated_dog_141.jpg (deflated 55%)\n",
            "  adding: content/data/realistic_AI_generated_dog_554.jpg (deflated 0%)\n",
            "  adding: content/data/realistic_AI_generated_dog_34.jpg (deflated 0%)\n",
            "  adding: content/data/realistic_AI_generated_dog_174.jpg (deflated 0%)\n",
            "  adding: content/data/realistic_AI_generated_dog_6.jpg (deflated 1%)\n",
            "  adding: content/data/realistic_AI_generated_dog_256.jpg (deflated 16%)\n",
            "  adding: content/data/realistic_AI_generated_dog_156.jpg (deflated 1%)\n",
            "  adding: content/data/realistic_AI_generated_dog_372.jpg (deflated 0%)\n",
            "  adding: content/data/realistic_AI_generated_dog_299.jpg (deflated 0%)\n",
            "  adding: content/data/realistic_AI_generated_dog_224.jpg (deflated 0%)\n",
            "  adding: content/data/realistic_AI_generated_dog_498.jpg (deflated 7%)\n",
            "  adding: content/data/realistic_AI_generated_dog_104.jpg (deflated 1%)\n",
            "  adding: content/data/realistic_AI_generated_dog_29.jpg (deflated 1%)\n",
            "  adding: content/data/realistic_AI_generated_dog_255.jpg (stored 0%)\n",
            "  adding: content/data/realistic_AI_generated_dog_486.jpg (deflated 0%)\n",
            "  adding: content/data/realistic_AI_generated_dog_349.jpg (deflated 1%)\n",
            "  adding: content/data/realistic_AI_generated_dog_36.jpg (deflated 40%)\n",
            "  adding: content/data/realistic_AI_generated_dog_129.jpg (deflated 0%)\n",
            "  adding: content/data/realistic_AI_generated_dog_544.jpg (deflated 0%)\n",
            "  adding: content/data/realistic_AI_generated_dog_562.jpg (stored 0%)\n",
            "  adding: content/data/realistic_AI_generated_dog_7.jpg (deflated 56%)\n",
            "  adding: content/data/realistic_AI_generated_dog_236.jpg (deflated 0%)\n",
            "  adding: content/data/realistic_AI_generated_dog_47.jpg (deflated 0%)\n",
            "  adding: content/data/realistic_AI_generated_dog_12.jpg (deflated 0%)\n",
            "  adding: content/data/realistic_AI_generated_dog_275.jpg (deflated 0%)\n",
            "  adding: content/data/realistic_AI_generated_dog_524.jpg (deflated 0%)\n",
            "  adding: content/data/realistic_AI_generated_dog_551.jpg (deflated 0%)\n",
            "  adding: content/data/realistic_AI_generated_dog_438.jpg (deflated 3%)\n",
            "  adding: content/data/realistic_AI_generated_dog_329.jpg (deflated 1%)\n",
            "  adding: content/data/realistic_AI_generated_dog_172.jpg (deflated 0%)\n",
            "  adding: content/data/realistic_AI_generated_dog_287.jpg (deflated 1%)\n",
            "  adding: content/data/realistic_AI_generated_dog_40.jpg (stored 0%)\n",
            "  adding: content/data/realistic_AI_generated_dog_550.jpg (deflated 8%)\n",
            "  adding: content/data/realistic_AI_generated_dog_171.jpg (deflated 0%)\n",
            "  adding: content/data/realistic_AI_generated_dog_101.jpg (deflated 1%)\n",
            "  adding: content/data/realistic_AI_generated_dog_246.jpg (deflated 2%)\n",
            "  adding: content/data/realistic_AI_generated_dog_481.jpg (deflated 0%)\n",
            "  adding: content/data/realistic_AI_generated_dog_479.jpg (deflated 2%)\n",
            "  adding: content/data/realistic_AI_generated_dog_24.jpg (deflated 55%)\n",
            "  adding: content/data/realistic_AI_generated_dog_49.jpg (deflated 2%)\n",
            "  adding: content/data/realistic_AI_generated_dog_420.jpg (deflated 0%)\n",
            "  adding: content/data/realistic_AI_generated_dog_195.jpg (deflated 1%)\n",
            "  adding: content/data/realistic_AI_generated_dog_277.jpg (deflated 0%)\n",
            "  adding: content/data/realistic_AI_generated_dog_209.jpg (deflated 56%)\n",
            "  adding: content/data/realistic_AI_generated_dog_4.jpg (deflated 0%)\n",
            "  adding: content/data/realistic_AI_generated_dog_180.jpg (deflated 2%)\n",
            "  adding: content/data/realistic_AI_generated_dog_205.jpg (stored 0%)\n",
            "  adding: content/data/realistic_AI_generated_dog_196.jpg (deflated 0%)\n",
            "  adding: content/data/realistic_AI_generated_dog_276.jpg (deflated 2%)\n",
            "  adding: content/data/realistic_AI_generated_dog_552.jpg (deflated 0%)\n",
            "  adding: content/data/realistic_AI_generated_dog_15.jpg (deflated 9%)\n",
            "  adding: content/data/realistic_AI_generated_dog_231.jpg (deflated 1%)\n",
            "  adding: content/data/realistic_AI_generated_dog_523.jpg (deflated 0%)\n",
            "  adding: content/data/realistic_AI_generated_dog_417.jpg (deflated 0%)\n",
            "  adding: content/data/realistic_AI_generated_dog_302.jpg (deflated 0%)\n",
            "  adding: content/data/realistic_AI_generated_dog_371.jpg (deflated 0%)\n",
            "  adding: content/data/realistic_AI_generated_dog_13.jpg (deflated 0%)\n",
            "  adding: content/data/realistic_AI_generated_dog_76.jpg (deflated 0%)\n",
            "  adding: content/data/realistic_AI_generated_dog_370.jpg (stored 0%)\n",
            "  adding: content/data/realistic_AI_generated_dog_356.jpg (deflated 0%)\n",
            "  adding: content/data/realistic_AI_generated_dog_555.jpg (deflated 6%)\n",
            "  adding: content/data/realistic_AI_generated_dog_558.jpg (deflated 3%)\n",
            "  adding: content/data/realistic_AI_generated_dog_513.jpg (deflated 6%)\n",
            "  adding: content/data/realistic_AI_generated_dog_409.jpg (deflated 3%)\n",
            "  adding: content/data/realistic_AI_generated_dog_140.jpg (deflated 0%)\n",
            "  adding: content/data/realistic_AI_generated_dog_355.jpg (deflated 1%)\n",
            "  adding: content/data/realistic_AI_generated_dog_445.jpg (deflated 0%)\n",
            "  adding: content/data/realistic_AI_generated_dog_532.jpg (deflated 0%)\n",
            "  adding: content/data/realistic_AI_generated_dog_312.jpg (deflated 0%)\n",
            "  adding: content/data/realistic_AI_generated_dog_304.jpg (deflated 0%)\n",
            "  adding: content/data/realistic_AI_generated_dog_385.jpg (deflated 7%)\n",
            "  adding: content/data/realistic_AI_generated_dog_103.jpg (deflated 3%)\n",
            "  adding: content/data/realistic_AI_generated_dog_285.jpg (deflated 0%)\n",
            "  adding: content/data/realistic_AI_generated_dog_440.jpg (deflated 0%)\n",
            "  adding: content/data/realistic_AI_generated_dog_362.jpg (stored 0%)\n",
            "  adding: content/data/realistic_AI_generated_dog_120.jpg (deflated 5%)\n",
            "  adding: content/data/realistic_AI_generated_dog_259.jpg (deflated 3%)\n",
            "  adding: content/data/realistic_AI_generated_dog_109.jpg (deflated 0%)\n",
            "  adding: content/data/realistic_AI_generated_dog_42.jpg (deflated 1%)\n",
            "  adding: content/data/realistic_AI_generated_dog_167.jpg (deflated 1%)\n",
            "  adding: content/data/realistic_AI_generated_dog_317.jpg (deflated 11%)\n",
            "  adding: content/data/realistic_AI_generated_dog_21.jpg (deflated 0%)\n",
            "  adding: content/data/realistic_AI_generated_dog_219.jpg (deflated 0%)\n",
            "  adding: content/data/realistic_AI_generated_dog_436.jpg (deflated 0%)\n",
            "  adding: content/data/realistic_AI_generated_dog_160.jpg (deflated 0%)\n",
            "  adding: content/data/realistic_AI_generated_dog_91.jpg (deflated 56%)\n",
            "  adding: content/data/realistic_AI_generated_dog_79.jpg (deflated 5%)\n",
            "  adding: content/data/realistic_AI_generated_dog_218.jpg (deflated 0%)\n",
            "  adding: content/data/realistic_AI_generated_dog_208.jpg (deflated 0%)\n",
            "  adding: content/data/realistic_AI_generated_dog_341.jpg (deflated 2%)\n",
            "  adding: content/data/realistic_AI_generated_dog_456.jpg (deflated 0%)\n",
            "  adding: content/data/realistic_AI_generated_dog_65.jpg (deflated 0%)\n",
            "  adding: content/data/realistic_AI_generated_dog_185.jpg (deflated 11%)\n",
            "  adding: content/data/realistic_AI_generated_dog_263.jpg (deflated 0%)\n",
            "  adding: content/data/realistic_AI_generated_dog_446.jpg (deflated 0%)\n",
            "  adding: content/data/realistic_AI_generated_dog_260.jpg (deflated 0%)\n",
            "  adding: content/data/realistic_AI_generated_dog_412.jpg (deflated 0%)\n",
            "  adding: content/data/realistic_AI_generated_dog_211.jpg (deflated 3%)\n",
            "  adding: content/data/realistic_AI_generated_dog_122.jpg (deflated 1%)\n",
            "  adding: content/data/realistic_AI_generated_dog_77.jpg (deflated 3%)\n",
            "  adding: content/data/realistic_AI_generated_dog_289.jpg (deflated 0%)\n",
            "  adding: content/data/realistic_AI_generated_dog_23.jpg (deflated 0%)\n",
            "  adding: content/data/realistic_AI_generated_dog_62.jpg (deflated 0%)\n",
            "  adding: content/data/realistic_AI_generated_dog_235.jpg (deflated 0%)\n",
            "  adding: content/data/realistic_AI_generated_dog_37.jpg (deflated 2%)\n",
            "  adding: content/data/realistic_AI_generated_dog_295.jpg (deflated 0%)\n",
            "  adding: content/data/realistic_AI_generated_dog_482.jpg (deflated 6%)\n",
            "  adding: content/data/realistic_AI_generated_dog_31.jpg (deflated 0%)\n",
            "  adding: content/data/realistic_AI_generated_dog_411.jpg (deflated 1%)\n",
            "  adding: content/data/realistic_AI_generated_dog_447.jpg (deflated 0%)\n",
            "  adding: content/data/realistic_AI_generated_dog_428.jpg (deflated 0%)\n",
            "  adding: content/data/realistic_AI_generated_dog_455.jpg (deflated 1%)\n",
            "  adding: content/data/realistic_AI_generated_dog_127.jpg (deflated 1%)\n",
            "  adding: content/data/realistic_AI_generated_dog_459.jpg (deflated 55%)\n",
            "  adding: content/data/realistic_AI_generated_dog_148.jpg (deflated 0%)\n",
            "  adding: content/data/realistic_AI_generated_dog_399.jpg (deflated 0%)\n",
            "  adding: content/data/realistic_AI_generated_dog_506.jpg (deflated 0%)\n",
            "  adding: content/data/realistic_AI_generated_dog_468.jpg (deflated 0%)\n",
            "  adding: content/data/realistic_AI_generated_dog_117.jpg (deflated 1%)\n",
            "  adding: content/data/realistic_AI_generated_dog_294.jpg (deflated 0%)\n",
            "  adding: content/data/realistic_AI_generated_dog_105.jpg (deflated 0%)\n",
            "  adding: content/data/realistic_AI_generated_dog_41.jpg (deflated 1%)\n",
            "  adding: content/data/realistic_AI_generated_dog_131.jpg (deflated 0%)\n",
            "  adding: content/data/realistic_AI_generated_dog_472.jpg (deflated 6%)\n",
            "  adding: content/data/realistic_AI_generated_dog_74.jpg (deflated 0%)\n",
            "  adding: content/data/realistic_AI_generated_dog_66.jpg (deflated 0%)\n",
            "  adding: content/data/realistic_AI_generated_dog_44.jpg (deflated 0%)\n",
            "  adding: content/data/realistic_AI_generated_dog_48.jpg (deflated 4%)\n",
            "  adding: content/data/realistic_AI_generated_dog_525.jpg (deflated 6%)\n",
            "  adding: content/data/realistic_AI_generated_dog_68.jpg (deflated 8%)\n",
            "  adding: content/data/realistic_AI_generated_dog_175.jpg (deflated 0%)\n",
            "  adding: content/data/realistic_AI_generated_dog_265.jpg (deflated 4%)\n",
            "  adding: content/data/realistic_AI_generated_dog_90.jpg (deflated 1%)\n",
            "  adding: content/data/realistic_AI_generated_dog_18.jpg (deflated 0%)\n",
            "  adding: content/data/realistic_AI_generated_dog_189.jpg (deflated 0%)\n",
            "  adding: content/data/realistic_AI_generated_dog_338.jpg (deflated 0%)\n",
            "  adding: content/data/realistic_AI_generated_dog_364.jpg (deflated 1%)\n",
            "  adding: content/data/realistic_AI_generated_dog_435.jpg (deflated 0%)\n",
            "  adding: content/data/realistic_AI_generated_dog_243.jpg (deflated 0%)\n",
            "  adding: content/data/realistic_AI_generated_dog_346.jpg (deflated 0%)\n",
            "  adding: content/data/realistic_AI_generated_dog_488.jpg (deflated 0%)\n",
            "  adding: content/data/realistic_AI_generated_dog_100.jpg (deflated 5%)\n",
            "  adding: content/data/realistic_AI_generated_dog_429.jpg (deflated 0%)\n",
            "  adding: content/data/realistic_AI_generated_dog_464.jpg (deflated 0%)\n",
            "  adding: content/data/realistic_AI_generated_dog_419.jpg (deflated 0%)\n",
            "  adding: content/data/realistic_AI_generated_dog_344.jpg (deflated 0%)\n",
            "  adding: content/data/realistic_AI_generated_dog_264.jpg (deflated 0%)\n",
            "  adding: content/data/realistic_AI_generated_dog_529.jpg (deflated 0%)\n",
            "  adding: content/data/realistic_AI_generated_dog_413.jpg (deflated 1%)\n",
            "  adding: content/data/realistic_AI_generated_dog_527.jpg (deflated 11%)\n",
            "  adding: content/data/realistic_AI_generated_dog_536.jpg (deflated 11%)\n",
            "  adding: content/data/realistic_AI_generated_dog_441.jpg (deflated 0%)\n",
            "  adding: content/data/realistic_AI_generated_dog_553.jpg (deflated 9%)\n",
            "  adding: content/data/realistic_AI_generated_dog_151.jpg (deflated 0%)\n",
            "  adding: content/data/realistic_AI_generated_dog_225.jpg (deflated 1%)\n",
            "  adding: content/data/realistic_AI_generated_dog_227.jpg (deflated 1%)\n",
            "  adding: content/data/realistic_AI_generated_dog_159.jpg (deflated 6%)\n",
            "  adding: content/data/realistic_AI_generated_dog_475.jpg (deflated 9%)\n",
            "  adding: content/data/realistic_AI_generated_dog_248.jpg (deflated 0%)\n",
            "  adding: content/data/realistic_AI_generated_dog_324.jpg (deflated 56%)\n",
            "  adding: content/data/realistic_AI_generated_dog_458.jpg (deflated 5%)\n",
            "  adding: content/data/realistic_AI_generated_dog_240.jpg (deflated 0%)\n",
            "  adding: content/data/realistic_AI_generated_dog_377.jpg (deflated 0%)\n",
            "  adding: content/data/realistic_AI_generated_dog_206.jpg (deflated 4%)\n",
            "  adding: content/data/realistic_AI_generated_dog_202.jpg (deflated 17%)\n",
            "  adding: content/data/realistic_AI_generated_dog_345.jpg (stored 0%)\n",
            "  adding: content/data/realistic_AI_generated_dog_374.jpg (deflated 7%)\n",
            "  adding: content/data/realistic_AI_generated_dog_201.jpg (deflated 1%)\n",
            "  adding: content/data/realistic_AI_generated_dog_318.jpg (deflated 1%)\n",
            "  adding: content/data/realistic_AI_generated_dog_58.jpg (deflated 1%)\n",
            "  adding: content/data/realistic_AI_generated_dog_288.jpg (deflated 0%)\n",
            "  adding: content/data/realistic_AI_generated_dog_366.jpg (deflated 0%)\n",
            "  adding: content/data/realistic_AI_generated_dog_402.jpg (deflated 0%)\n",
            "  adding: content/data/realistic_AI_generated_dog_110.jpg (deflated 0%)\n",
            "  adding: content/data/realistic_AI_generated_dog_492.jpg (deflated 0%)\n",
            "  adding: content/data/realistic_AI_generated_dog_86.jpg (deflated 2%)\n",
            "  adding: content/data/realistic_AI_generated_dog_534.jpg (deflated 3%)\n",
            "  adding: content/data/realistic_AI_generated_dog_274.jpg (stored 0%)\n",
            "  adding: content/data/realistic_AI_generated_dog_487.jpg (deflated 0%)\n",
            "  adding: content/data/realistic_AI_generated_dog_280.jpg (deflated 0%)\n",
            "  adding: content/data/realistic_AI_generated_dog_71.jpg (deflated 0%)\n",
            "  adding: content/data/realistic_AI_generated_dog_514.jpg (deflated 0%)\n",
            "  adding: content/data/realistic_AI_generated_dog_311.jpg (deflated 6%)\n",
            "  adding: content/data/realistic_AI_generated_dog_73.jpg (deflated 0%)\n",
            "  adding: content/data/realistic_AI_generated_dog_26.jpg (deflated 0%)\n",
            "  adding: content/data/realistic_AI_generated_dog_307.jpg (deflated 0%)\n",
            "  adding: content/data/realistic_AI_generated_dog_271.jpg (deflated 1%)\n",
            "  adding: content/data/realistic_AI_generated_dog_187.jpg (deflated 0%)\n",
            "  adding: content/data/realistic_AI_generated_dog_245.jpg (deflated 1%)\n",
            "  adding: content/data/realistic_AI_generated_dog_376.jpg (deflated 0%)\n",
            "  adding: content/data/realistic_AI_generated_dog_508.jpg (deflated 4%)\n",
            "  adding: content/data/realistic_AI_generated_dog_477.jpg (deflated 0%)\n",
            "  adding: content/data/realistic_AI_generated_dog_108.jpg (deflated 0%)\n",
            "  adding: content/data/realistic_AI_generated_dog_408.jpg (deflated 0%)\n",
            "  adding: content/data/realistic_AI_generated_dog_494.jpg (deflated 0%)\n",
            "  adding: content/data/realistic_AI_generated_dog_460.jpg (deflated 0%)\n",
            "  adding: content/data/realistic_AI_generated_dog_501.jpg (deflated 9%)\n",
            "  adding: content/data/realistic_AI_generated_dog_373.jpg (deflated 0%)\n",
            "  adding: content/data/realistic_AI_generated_dog_382.jpg (deflated 0%)\n",
            "  adding: content/data/realistic_AI_generated_dog_50.jpg (deflated 0%)\n",
            "  adding: content/data/realistic_AI_generated_dog_20.jpg (deflated 0%)\n",
            "  adding: content/data/realistic_AI_generated_dog_375.jpg (deflated 56%)\n",
            "  adding: content/data/realistic_AI_generated_dog_352.jpg (deflated 0%)\n",
            "  adding: content/data/realistic_AI_generated_dog_425.jpg (deflated 0%)\n",
            "  adding: content/data/realistic_AI_generated_dog_470.jpg (deflated 8%)\n",
            "  adding: content/data/realistic_AI_generated_dog_155.jpg (deflated 1%)\n",
            "  adding: content/data/realistic_AI_generated_dog_59.jpg (deflated 0%)\n",
            "  adding: content/data/realistic_AI_generated_dog_197.jpg (deflated 0%)\n",
            "  adding: content/data/realistic_AI_generated_dog_145.jpg (deflated 9%)\n",
            "  adding: content/data/realistic_AI_generated_dog_531.jpg (deflated 0%)\n",
            "  adding: content/data/realistic_AI_generated_dog_99.jpg (deflated 7%)\n",
            "  adding: content/data/realistic_AI_generated_dog_361.jpg (deflated 10%)\n",
            "  adding: content/data/realistic_AI_generated_dog_278.jpg (deflated 1%)\n",
            "  adding: content/data/realistic_AI_generated_dog_94.jpg (deflated 1%)\n",
            "  adding: content/data/realistic_AI_generated_dog_432.jpg (deflated 1%)\n",
            "  adding: content/data/realistic_AI_generated_dog_538.jpg (deflated 0%)\n",
            "  adding: content/data/realistic_AI_generated_dog_390.jpg (deflated 2%)\n",
            "  adding: content/data/realistic_AI_generated_dog_549.jpg (deflated 0%)\n",
            "  adding: content/data/realistic_AI_generated_dog_415.jpg (deflated 5%)\n",
            "  adding: content/data/realistic_AI_generated_dog_210.jpg (deflated 2%)\n",
            "  adding: content/data/realistic_AI_generated_dog_315.jpg (deflated 2%)\n",
            "  adding: content/data/realistic_AI_generated_dog_80.jpg (deflated 3%)\n",
            "  adding: content/data/realistic_AI_generated_dog_301.jpg (deflated 0%)\n",
            "  adding: content/data/realistic_AI_generated_dog_252.jpg (deflated 0%)\n",
            "  adding: content/data/realistic_AI_generated_dog_497.jpg (deflated 0%)\n",
            "  adding: content/data/realistic_AI_generated_dog_123.jpg (deflated 9%)\n",
            "  adding: content/data/realistic_AI_generated_dog_539.jpg (deflated 7%)\n",
            "  adding: content/data/realistic_AI_generated_dog_25.jpg (deflated 2%)\n",
            "  adding: content/data/realistic_AI_generated_dog_158.jpg (deflated 10%)\n",
            "  adding: content/data/realistic_AI_generated_dog_483.jpg (deflated 0%)\n",
            "  adding: content/data/realistic_AI_generated_dog_557.jpg (deflated 6%)\n",
            "  adding: content/data/realistic_AI_generated_dog_442.jpg (deflated 0%)\n",
            "  adding: content/data/realistic_AI_generated_dog_357.jpg (deflated 0%)\n",
            "  adding: content/data/realistic_AI_generated_dog_46.jpg (deflated 0%)\n",
            "  adding: content/data/realistic_AI_generated_dog_351.jpg (deflated 7%)\n",
            "  adding: content/data/realistic_AI_generated_dog_454.jpg (deflated 5%)\n",
            "  adding: content/data/realistic_AI_generated_dog_410.jpg (deflated 8%)\n",
            "  adding: content/data/realistic_AI_generated_dog_38.jpg (deflated 6%)\n",
            "  adding: content/data/realistic_AI_generated_dog_229.jpg (deflated 14%)\n",
            "  adding: content/data/realistic_AI_generated_dog_516.jpg (deflated 1%)\n",
            "  adding: content/data/realistic_AI_generated_dog_489.jpg (deflated 4%)\n",
            "  adding: content/data/realistic_AI_generated_dog_112.jpg (deflated 0%)\n",
            "  adding: content/data/realistic_AI_generated_dog_97.jpg (deflated 1%)\n",
            "  adding: content/data/realistic_AI_generated_dog_67.jpg (deflated 0%)\n",
            "  adding: content/data/realistic_AI_generated_dog_173.jpg (deflated 1%)\n",
            "  adding: content/data/realistic_AI_generated_dog_241.jpg (deflated 2%)\n",
            "  adding: content/data/realistic_AI_generated_dog_367.jpg (deflated 0%)\n",
            "  adding: content/data/realistic_AI_generated_dog_325.jpg (deflated 0%)\n",
            "  adding: content/data/realistic_AI_generated_dog_310.jpg (deflated 0%)\n",
            "  adding: content/data/realistic_AI_generated_dog_137.jpg (deflated 5%)\n",
            "  adding: content/data/realistic_AI_generated_dog_213.jpg (deflated 3%)\n",
            "  adding: content/data/realistic_AI_generated_dog_319.jpg (deflated 1%)\n",
            "  adding: content/data/realistic_AI_generated_dog_147.jpg (deflated 2%)\n",
            "  adding: content/data/realistic_AI_generated_dog_439.jpg (deflated 0%)\n",
            "  adding: content/data/realistic_AI_generated_dog_303.jpg (deflated 1%)\n",
            "  adding: content/data/realistic_AI_generated_dog_11.jpg (deflated 1%)\n",
            "  adding: content/data/realistic_AI_generated_dog_60.jpg (deflated 1%)\n",
            "  adding: content/data/realistic_AI_generated_dog_212.jpg (deflated 0%)\n",
            "  adding: content/data/realistic_AI_generated_dog_449.jpg (deflated 5%)\n",
            "  adding: content/data/realistic_AI_generated_dog_430.jpg (deflated 4%)\n",
            "  adding: content/data/realistic_AI_generated_dog_53.jpg (deflated 1%)\n",
            "  adding: content/data/realistic_AI_generated_dog_421.jpg (deflated 0%)\n",
            "  adding: content/data/realistic_AI_generated_dog_247.jpg (deflated 1%)\n",
            "  adding: content/data/realistic_AI_generated_dog_337.jpg (stored 0%)\n",
            "  adding: content/data/realistic_AI_generated_dog_142.jpg (deflated 0%)\n",
            "  adding: content/data/realistic_AI_generated_dog_522.jpg (deflated 11%)\n",
            "  adding: content/data/realistic_AI_generated_dog_250.jpg (deflated 2%)\n",
            "  adding: content/data/realistic_AI_generated_dog_14.jpg (deflated 0%)\n",
            "  adding: content/data/realistic_AI_generated_dog_453.jpg (stored 0%)\n",
            "  adding: content/data/realistic_AI_generated_dog_176.jpg (deflated 0%)\n",
            "  adding: content/data/realistic_AI_generated_dog_563.jpg (deflated 0%)\n",
            "  adding: content/data/realistic_AI_generated_dog_540.jpg (deflated 12%)\n",
            "  adding: content/data/realistic_AI_generated_dog_542.jpg (deflated 3%)\n"
          ]
        }
      ]
    },
    {
      "cell_type": "markdown",
      "source": [
        "### Remove Duplicates"
      ],
      "metadata": {
        "id": "IkP4qqAuQ9c8"
      }
    },
    {
      "cell_type": "code",
      "source": [
        "def rm_dup_images(directory):\n",
        "\n",
        "    hashes = set\n",
        "\n",
        "    print(\"Before : \", len(os.listdir(directory)), \"files\")\n",
        "\n",
        "    for filename in os.listdir(directory):\n",
        "        path = os.path.join(directory, filename)\n",
        "        digest = hashlib.sha1(open(path,'rb').read()).digest()\n",
        "        if digest not in hashes:\n",
        "            hashes.add(digest)\n",
        "        else:\n",
        "            os.remove(path)\n",
        "\n",
        "    print(\"After : \", len(os.listdir(directory)), \"files\")"
      ],
      "metadata": {
        "id": "DAd0jbVMNCTB"
      },
      "execution_count": null,
      "outputs": []
    },
    {
      "cell_type": "code",
      "source": [
        "rm_dup_images('/content/data')"
      ],
      "metadata": {
        "id": "3aqwUDEkRNDD"
      },
      "execution_count": null,
      "outputs": []
    }
  ]
}